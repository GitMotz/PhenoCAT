{
 "cells": [
  {
   "cell_type": "markdown",
   "metadata": {
    "colab_type": "text",
    "id": "493qtU0G_g--"
   },
   "source": [
    "## Save encoded and decoded images"
   ]
  },
  {
   "cell_type": "code",
   "execution_count": 0,
   "metadata": {
    "colab": {},
    "colab_type": "code",
    "id": "W0ccvjWC-AaA"
   },
   "outputs": [],
   "source": [
    "#!pip install tensorflow-gpu"
   ]
  },
  {
   "cell_type": "code",
   "execution_count": 1,
   "metadata": {
    "colab": {
     "base_uri": "https://localhost:8080/",
     "height": 129
    },
    "colab_type": "code",
    "executionInfo": {
     "elapsed": 26426,
     "status": "ok",
     "timestamp": 1564307144899,
     "user": {
      "displayName": "Doris Berchtold",
      "photoUrl": "",
      "userId": "12069609318157844251"
     },
     "user_tz": -120
    },
    "id": "PSij8SqgKib9",
    "outputId": "4b7eac1b-88b9-42d2-842e-712ec81930a7"
   },
   "outputs": [
    {
     "name": "stdout",
     "output_type": "stream",
     "text": [
      "Go to this URL in a browser: https://accounts.google.com/o/oauth2/auth?client_id=947318989803-6bn6qk8qdgf4n4g3pfee6491hc0brc4i.apps.googleusercontent.com&redirect_uri=urn%3Aietf%3Awg%3Aoauth%3A2.0%3Aoob&scope=email%20https%3A%2F%2Fwww.googleapis.com%2Fauth%2Fdocs.test%20https%3A%2F%2Fwww.googleapis.com%2Fauth%2Fdrive%20https%3A%2F%2Fwww.googleapis.com%2Fauth%2Fdrive.photos.readonly%20https%3A%2F%2Fwww.googleapis.com%2Fauth%2Fpeopleapi.readonly&response_type=code\n",
      "\n",
      "Enter your authorization code:\n",
      "··········\n",
      "Mounted at /content/drive\n"
     ]
    }
   ],
   "source": [
    "from google.colab import drive\n",
    "drive.mount('/content/drive')"
   ]
  },
  {
   "cell_type": "code",
   "execution_count": 0,
   "metadata": {
    "colab": {},
    "colab_type": "code",
    "id": "BvkgLDIy_g_A"
   },
   "outputs": [],
   "source": [
    "from tensorflow.keras.models import load_model\n",
    "import numpy as np\n",
    "from tensorflow.keras.preprocessing import image\n",
    "from PIL import Image\n",
    "import os\n",
    "import cv2"
   ]
  },
  {
   "cell_type": "markdown",
   "metadata": {
    "colab_type": "text",
    "id": "Y_dMntqV_g_H"
   },
   "source": [
    "### Set paths/ model name"
   ]
  },
  {
   "cell_type": "code",
   "execution_count": 0,
   "metadata": {
    "colab": {},
    "colab_type": "code",
    "id": "vriHg5ml_g_I"
   },
   "outputs": [],
   "source": [
    "fullPathModel = '/content/drive/My Drive/Model_data/Deep_AE_v4.h5'\n",
    "fullPathEncoder = '/content/drive/My Drive/Model_data/Deep_AE_v4_encoder.h5'\n",
    "model_name = 'Deep_AE_v4'\n",
    "\n",
    "path_to_legacy_images = '/content/drive/My Drive/legacy_images/'\n",
    "path_to_save = '/content/drive/My Drive/autoencoder_images/'"
   ]
  },
  {
   "cell_type": "markdown",
   "metadata": {
    "colab_type": "text",
    "id": "Uok0raeb_g_M"
   },
   "source": [
    "### Load model"
   ]
  },
  {
   "cell_type": "code",
   "execution_count": 3,
   "metadata": {
    "colab": {
     "base_uri": "https://localhost:8080/",
     "height": 280
    },
    "colab_type": "code",
    "executionInfo": {
     "elapsed": 7483,
     "status": "ok",
     "timestamp": 1564309046955,
     "user": {
      "displayName": "Doris Berchtold",
      "photoUrl": "",
      "userId": "12069609318157844251"
     },
     "user_tz": -120
    },
    "id": "kErOBEFK_g_N",
    "outputId": "f85c46c6-8513-428d-eb6e-6dca73fb1768"
   },
   "outputs": [
    {
     "name": "stderr",
     "output_type": "stream",
     "text": [
      "WARNING: Logging before flag parsing goes to stderr.\n",
      "W0728 10:17:15.422893 140482013960064 deprecation.py:506] From /usr/local/lib/python3.6/dist-packages/tensorflow/python/ops/init_ops.py:97: calling GlorotUniform.__init__ (from tensorflow.python.ops.init_ops) with dtype is deprecated and will be removed in a future version.\n",
      "Instructions for updating:\n",
      "Call initializer instance with the dtype argument instead of passing it to the constructor\n",
      "W0728 10:17:15.424748 140482013960064 deprecation.py:506] From /usr/local/lib/python3.6/dist-packages/tensorflow/python/ops/init_ops.py:1251: calling VarianceScaling.__init__ (from tensorflow.python.ops.init_ops) with dtype is deprecated and will be removed in a future version.\n",
      "Instructions for updating:\n",
      "Call initializer instance with the dtype argument instead of passing it to the constructor\n",
      "W0728 10:17:15.427639 140482013960064 deprecation.py:506] From /usr/local/lib/python3.6/dist-packages/tensorflow/python/ops/init_ops.py:97: calling Zeros.__init__ (from tensorflow.python.ops.init_ops) with dtype is deprecated and will be removed in a future version.\n",
      "Instructions for updating:\n",
      "Call initializer instance with the dtype argument instead of passing it to the constructor\n",
      "W0728 10:17:15.438411 140482013960064 deprecation.py:506] From /usr/local/lib/python3.6/dist-packages/tensorflow/python/ops/init_ops.py:97: calling Ones.__init__ (from tensorflow.python.ops.init_ops) with dtype is deprecated and will be removed in a future version.\n",
      "Instructions for updating:\n",
      "Call initializer instance with the dtype argument instead of passing it to the constructor\n",
      "W0728 10:17:16.671689 140482013960064 hdf5_format.py:221] No training configuration found in save file: the model was *not* compiled. Compile it manually.\n"
     ]
    }
   ],
   "source": [
    "encoder = load_model(fullPathEncoder) \n",
    "decoder = load_model(fullPathModel)\n"
   ]
  },
  {
   "cell_type": "code",
   "execution_count": 4,
   "metadata": {
    "colab": {
     "base_uri": "https://localhost:8080/",
     "height": 595
    },
    "colab_type": "code",
    "executionInfo": {
     "elapsed": 5330,
     "status": "ok",
     "timestamp": 1564309046958,
     "user": {
      "displayName": "Doris Berchtold",
      "photoUrl": "",
      "userId": "12069609318157844251"
     },
     "user_tz": -120
    },
    "id": "Uut71B1mkmH9",
    "outputId": "cea97b63-c1b1-427d-e52e-b73df9718ab2"
   },
   "outputs": [
    {
     "name": "stdout",
     "output_type": "stream",
     "text": [
      "Model: \"model_3\"\n",
      "_________________________________________________________________\n",
      "Layer (type)                 Output Shape              Param #   \n",
      "=================================================================\n",
      "input_2 (InputLayer)         [(None, 256, 256, 3)]     0         \n",
      "_________________________________________________________________\n",
      "flatten_1 (Flatten)          (None, 196608)            0         \n",
      "_________________________________________________________________\n",
      "dense_4 (Dense)              (None, 256)               50331648  \n",
      "_________________________________________________________________\n",
      "batch_normalization_3 (Batch (None, 256)               1024      \n",
      "_________________________________________________________________\n",
      "activation_3 (Activation)    (None, 256)               0         \n",
      "_________________________________________________________________\n",
      "dense_5 (Dense)              (None, 128)               32896     \n",
      "_________________________________________________________________\n",
      "dense_6 (Dense)              (None, 256)               32768     \n",
      "_________________________________________________________________\n",
      "batch_normalization_4 (Batch (None, 256)               1024      \n",
      "_________________________________________________________________\n",
      "activation_4 (Activation)    (None, 256)               0         \n",
      "_________________________________________________________________\n",
      "dense_7 (Dense)              (None, 196608)            50331648  \n",
      "_________________________________________________________________\n",
      "batch_normalization_5 (Batch (None, 196608)            786432    \n",
      "_________________________________________________________________\n",
      "activation_5 (Activation)    (None, 196608)            0         \n",
      "_________________________________________________________________\n",
      "reshape_1 (Reshape)          (None, 256, 256, 3)       0         \n",
      "=================================================================\n",
      "Total params: 101,517,440\n",
      "Trainable params: 101,123,200\n",
      "Non-trainable params: 394,240\n",
      "_________________________________________________________________\n"
     ]
    }
   ],
   "source": [
    "decoder.summary()"
   ]
  },
  {
   "cell_type": "markdown",
   "metadata": {
    "colab_type": "text",
    "id": "47EzJQ9U_g_P"
   },
   "source": [
    "### Save encoded and reconstructed images"
   ]
  },
  {
   "cell_type": "code",
   "execution_count": 5,
   "metadata": {
    "colab": {
     "base_uri": "https://localhost:8080/",
     "height": 34
    },
    "colab_type": "code",
    "executionInfo": {
     "elapsed": 1870,
     "status": "ok",
     "timestamp": 1564309119548,
     "user": {
      "displayName": "Doris Berchtold",
      "photoUrl": "",
      "userId": "12069609318157844251"
     },
     "user_tz": -120
    },
    "id": "mfFp2qG1_g_Q",
    "outputId": "1d4fab41-55b5-4ac4-d74f-504adb2d0dcf"
   },
   "outputs": [
    {
     "name": "stdout",
     "output_type": "stream",
     "text": [
      "Done :)\n"
     ]
    }
   ],
   "source": [
    "image_list = os.listdir(path_to_legacy_images)\n",
    "\n",
    "for i in range(0, len(image_list)):\n",
    "    \n",
    "    im_name = image_list[i]\n",
    "    im_path = path_to_legacy_images + im_name\n",
    "    real_image = Image.open(im_path)\n",
    "\n",
    "    img_tensor = image.img_to_array(real_image)/255\n",
    "    img_tensor_ex = np.expand_dims(img_tensor, axis = 0)\n",
    "    encoded_img = encoder.predict(img_tensor_ex) \n",
    "    #new_im_size = int(np.sqrt(encoded_img.shape[1]))\n",
    "    #latent_image = encoded_img.reshape(new_im_size, new_im_size) \n",
    "    latent_image = encoded_img.reshape(8, 16) # for 128 dim\n",
    "    path_lat_image = path_to_save + model_name + '_' + 'latent_' + im_name\n",
    "    cv2.imwrite(path_lat_image, latent_image*255)\n",
    "   \n",
    "    decoded_image_ex = decoder.predict(img_tensor_ex)\n",
    "    decoded_image = np.squeeze(decoded_image_ex*255, axis = 0)\n",
    "    path_dec_image = path_to_save + model_name + '_' + 'decoded_' + im_name\n",
    "    decoded_image = cv2.cvtColor(decoded_image, cv2.COLOR_BGR2RGB) # cv2 saves in BGR format!!!\n",
    "    cv2.imwrite(path_dec_image, decoded_image)\n",
    " \n",
    "\n",
    "print('Done :)')"
   ]
  }
 ],
 "metadata": {
  "accelerator": "GPU",
  "colab": {
   "collapsed_sections": [],
   "name": "Encode_Decode_Images.ipynb",
   "provenance": [],
   "toc_visible": true,
   "version": "0.3.2"
  },
  "kernelspec": {
   "display_name": "Python 3",
   "language": "python",
   "name": "python3"
  },
  "language_info": {
   "codemirror_mode": {
    "name": "ipython",
    "version": 3
   },
   "file_extension": ".py",
   "mimetype": "text/x-python",
   "name": "python",
   "nbconvert_exporter": "python",
   "pygments_lexer": "ipython3",
   "version": "3.7.3"
  }
 },
 "nbformat": 4,
 "nbformat_minor": 1
}
