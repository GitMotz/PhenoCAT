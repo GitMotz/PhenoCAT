{
 "cells": [
  {
   "cell_type": "markdown",
   "metadata": {
    "colab_type": "text",
    "id": "493qtU0G_g--"
   },
   "source": [
    "## Encode Images\n",
    "\n",
    "This script uses a pre-trained deep learning model (Convolutional autoencoder) to encode raw images (png) into latent vectors. The output is saved as numpy matrix."
   ]
  },
  {
   "cell_type": "markdown",
   "metadata": {},
   "source": [
    "### set up environment"
   ]
  },
  {
   "cell_type": "code",
   "execution_count": 1,
   "metadata": {
    "colab": {
     "base_uri": "https://localhost:8080/",
     "height": 484
    },
    "colab_type": "code",
    "executionInfo": {
     "elapsed": 55005,
     "status": "ok",
     "timestamp": 1564311425984,
     "user": {
      "displayName": "Doris Berchtold",
      "photoUrl": "",
      "userId": "12069609318157844251"
     },
     "user_tz": -120
    },
    "id": "W0ccvjWC-AaA",
    "outputId": "2af6b710-1715-4ddf-aba3-39392be6657b"
   },
   "outputs": [
    {
     "name": "stdout",
     "output_type": "stream",
     "text": [
      "Collecting tensorflow-gpu\n",
      "\u001b[?25l  Downloading https://files.pythonhosted.org/packages/76/04/43153bfdfcf6c9a4c38ecdb971ca9a75b9a791bb69a764d652c359aca504/tensorflow_gpu-1.14.0-cp36-cp36m-manylinux1_x86_64.whl (377.0MB)\n",
      "\u001b[K     |████████████████████████████████| 377.0MB 46kB/s \n",
      "\u001b[?25hRequirement already satisfied: termcolor>=1.1.0 in /usr/local/lib/python3.6/dist-packages (from tensorflow-gpu) (1.1.0)\n",
      "Requirement already satisfied: tensorflow-estimator<1.15.0rc0,>=1.14.0rc0 in /usr/local/lib/python3.6/dist-packages (from tensorflow-gpu) (1.14.0)\n",
      "Requirement already satisfied: tensorboard<1.15.0,>=1.14.0 in /usr/local/lib/python3.6/dist-packages (from tensorflow-gpu) (1.14.0)\n",
      "Requirement already satisfied: gast>=0.2.0 in /usr/local/lib/python3.6/dist-packages (from tensorflow-gpu) (0.2.2)\n",
      "Requirement already satisfied: google-pasta>=0.1.6 in /usr/local/lib/python3.6/dist-packages (from tensorflow-gpu) (0.1.7)\n",
      "Requirement already satisfied: protobuf>=3.6.1 in /usr/local/lib/python3.6/dist-packages (from tensorflow-gpu) (3.7.1)\n",
      "Requirement already satisfied: keras-applications>=1.0.6 in /usr/local/lib/python3.6/dist-packages (from tensorflow-gpu) (1.0.8)\n",
      "Requirement already satisfied: wrapt>=1.11.1 in /usr/local/lib/python3.6/dist-packages (from tensorflow-gpu) (1.11.2)\n",
      "Requirement already satisfied: wheel>=0.26 in /usr/local/lib/python3.6/dist-packages (from tensorflow-gpu) (0.33.4)\n",
      "Requirement already satisfied: astor>=0.6.0 in /usr/local/lib/python3.6/dist-packages (from tensorflow-gpu) (0.8.0)\n",
      "Requirement already satisfied: grpcio>=1.8.6 in /usr/local/lib/python3.6/dist-packages (from tensorflow-gpu) (1.15.0)\n",
      "Requirement already satisfied: absl-py>=0.7.0 in /usr/local/lib/python3.6/dist-packages (from tensorflow-gpu) (0.7.1)\n",
      "Requirement already satisfied: numpy<2.0,>=1.14.5 in /usr/local/lib/python3.6/dist-packages (from tensorflow-gpu) (1.16.4)\n",
      "Requirement already satisfied: keras-preprocessing>=1.0.5 in /usr/local/lib/python3.6/dist-packages (from tensorflow-gpu) (1.1.0)\n",
      "Requirement already satisfied: six>=1.10.0 in /usr/local/lib/python3.6/dist-packages (from tensorflow-gpu) (1.12.0)\n",
      "Requirement already satisfied: werkzeug>=0.11.15 in /usr/local/lib/python3.6/dist-packages (from tensorboard<1.15.0,>=1.14.0->tensorflow-gpu) (0.15.5)\n",
      "Requirement already satisfied: markdown>=2.6.8 in /usr/local/lib/python3.6/dist-packages (from tensorboard<1.15.0,>=1.14.0->tensorflow-gpu) (3.1.1)\n",
      "Requirement already satisfied: setuptools>=41.0.0 in /usr/local/lib/python3.6/dist-packages (from tensorboard<1.15.0,>=1.14.0->tensorflow-gpu) (41.0.1)\n",
      "Requirement already satisfied: h5py in /usr/local/lib/python3.6/dist-packages (from keras-applications>=1.0.6->tensorflow-gpu) (2.8.0)\n",
      "Installing collected packages: tensorflow-gpu\n",
      "Successfully installed tensorflow-gpu-1.14.0\n"
     ]
    }
   ],
   "source": [
    "!pip install tensorflow-gpu"
   ]
  },
  {
   "cell_type": "code",
   "execution_count": 0,
   "metadata": {
    "colab": {
     "base_uri": "https://localhost:8080/",
     "height": 129
    },
    "colab_type": "code",
    "executionInfo": {
     "elapsed": 26426,
     "status": "ok",
     "timestamp": 1564307144899,
     "user": {
      "displayName": "Doris Berchtold",
      "photoUrl": "",
      "userId": "12069609318157844251"
     },
     "user_tz": -120
    },
    "id": "PSij8SqgKib9",
    "outputId": "4b7eac1b-88b9-42d2-842e-712ec81930a7"
   },
   "outputs": [
    {
     "name": "stdout",
     "output_type": "stream",
     "text": [
      "Go to this URL in a browser: https://accounts.google.com/o/oauth2/auth?client_id=947318989803-6bn6qk8qdgf4n4g3pfee6491hc0brc4i.apps.googleusercontent.com&redirect_uri=urn%3Aietf%3Awg%3Aoauth%3A2.0%3Aoob&scope=email%20https%3A%2F%2Fwww.googleapis.com%2Fauth%2Fdocs.test%20https%3A%2F%2Fwww.googleapis.com%2Fauth%2Fdrive%20https%3A%2F%2Fwww.googleapis.com%2Fauth%2Fdrive.photos.readonly%20https%3A%2F%2Fwww.googleapis.com%2Fauth%2Fpeopleapi.readonly&response_type=code\n",
      "\n",
      "Enter your authorization code:\n",
      "··········\n",
      "Mounted at /content/drive\n"
     ]
    }
   ],
   "source": [
    "from google.colab import drive\n",
    "drive.mount('/content/drive')"
   ]
  },
  {
   "cell_type": "code",
   "execution_count": 0,
   "metadata": {
    "colab": {},
    "colab_type": "code",
    "id": "BvkgLDIy_g_A"
   },
   "outputs": [],
   "source": [
    "import os\n",
    "import cv2\n",
    "from PIL import Image\n",
    "import pandas as pd\n",
    "import numpy as np\n",
    "\n",
    "from tensorflow.keras.models import load_model\n",
    "from tensorflow.keras.preprocessing import image\n"
   ]
  },
  {
   "cell_type": "markdown",
   "metadata": {
    "colab_type": "text",
    "id": "Y_dMntqV_g_H"
   },
   "source": [
    "### Set paths/ model name"
   ]
  },
  {
   "cell_type": "code",
   "execution_count": 0,
   "metadata": {
    "colab": {},
    "colab_type": "code",
    "id": "vriHg5ml_g_I"
   },
   "outputs": [],
   "source": [
    "fullPathEncoder = '/content/drive/My Drive/Model_data/Conv_AE_v4_encoder.h5'\n",
    "model_name = 'Conv_AE_v4'\n",
    "\n",
    "path_to_images = '/content/drive/My Drive/PhenoCAT/labeled_images/labeled_loose/'\n",
    "path_to_save = '/content/drive/My Drive/'\n"
   ]
  },
  {
   "cell_type": "markdown",
   "metadata": {
    "colab_type": "text",
    "id": "1gYFB60tJi42"
   },
   "source": [
    "### Load images"
   ]
  },
  {
   "cell_type": "code",
   "execution_count": 5,
   "metadata": {
    "colab": {
     "base_uri": "https://localhost:8080/",
     "height": 204
    },
    "colab_type": "code",
    "executionInfo": {
     "elapsed": 898,
     "status": "ok",
     "timestamp": 1564311848258,
     "user": {
      "displayName": "Doris Berchtold",
      "photoUrl": "",
      "userId": "12069609318157844251"
     },
     "user_tz": -120
    },
    "id": "ISG5Iq1VL0QG",
    "outputId": "2b06389e-3811-4e2a-b076-43e74a881905"
   },
   "outputs": [
    {
     "data": {
      "text/html": [
       "<div>\n",
       "<style scoped>\n",
       "    .dataframe tbody tr th:only-of-type {\n",
       "        vertical-align: middle;\n",
       "    }\n",
       "\n",
       "    .dataframe tbody tr th {\n",
       "        vertical-align: top;\n",
       "    }\n",
       "\n",
       "    .dataframe thead th {\n",
       "        text-align: right;\n",
       "    }\n",
       "</style>\n",
       "<table border=\"1\" class=\"dataframe\">\n",
       "  <thead>\n",
       "    <tr style=\"text-align: right;\">\n",
       "      <th></th>\n",
       "      <th>image_name</th>\n",
       "    </tr>\n",
       "  </thead>\n",
       "  <tbody>\n",
       "    <tr>\n",
       "      <th>0</th>\n",
       "      <td>CN-CP613_J06_T0001F020L01A01Z01C01_094.png</td>\n",
       "    </tr>\n",
       "    <tr>\n",
       "      <th>1</th>\n",
       "      <td>CN-CP613_C10_T0001F022L01A01Z01C01_077.png</td>\n",
       "    </tr>\n",
       "    <tr>\n",
       "      <th>2</th>\n",
       "      <td>CN-CP612_I16_T0001F019L01A01Z01C01_042.png</td>\n",
       "    </tr>\n",
       "    <tr>\n",
       "      <th>3</th>\n",
       "      <td>CN-CP615_I10_T0001F031L01A01Z01C01_053.png</td>\n",
       "    </tr>\n",
       "    <tr>\n",
       "      <th>4</th>\n",
       "      <td>CN-CP613_C07_T0001F006L01A01Z01C01_028.png</td>\n",
       "    </tr>\n",
       "  </tbody>\n",
       "</table>\n",
       "</div>"
      ],
      "text/plain": [
       "                                   image_name\n",
       "0  CN-CP613_J06_T0001F020L01A01Z01C01_094.png\n",
       "1  CN-CP613_C10_T0001F022L01A01Z01C01_077.png\n",
       "2  CN-CP612_I16_T0001F019L01A01Z01C01_042.png\n",
       "3  CN-CP615_I10_T0001F031L01A01Z01C01_053.png\n",
       "4  CN-CP613_C07_T0001F006L01A01Z01C01_028.png"
      ]
     },
     "execution_count": 5,
     "metadata": {
      "tags": []
     },
     "output_type": "execute_result"
    }
   ],
   "source": [
    "# get image filenames in data frame\n",
    "image_list = os.listdir(path_to_images)\n",
    "\n",
    "df_images = pd.DataFrame(data = image_list, columns = ['image_name'] )\n",
    "df_images.head()"
   ]
  },
  {
   "cell_type": "code",
   "execution_count": 0,
   "metadata": {
    "colab": {},
    "colab_type": "code",
    "id": "GhBsfktOYGwV"
   },
   "outputs": [],
   "source": [
    "# save df\n",
    "full_path_df = path_to_save + 'Image_names_' + model_name +'.csv'\n",
    "df_images.to_csv(full_path_df)"
   ]
  },
  {
   "cell_type": "code",
   "execution_count": 6,
   "metadata": {
    "colab": {
     "base_uri": "https://localhost:8080/",
     "height": 34
    },
    "colab_type": "code",
    "executionInfo": {
     "elapsed": 2894,
     "status": "ok",
     "timestamp": 1564311860747,
     "user": {
      "displayName": "Doris Berchtold",
      "photoUrl": "",
      "userId": "12069609318157844251"
     },
     "user_tz": -120
    },
    "id": "ZqHePMkCJm7e",
    "outputId": "5be85df7-7b29-4b1f-eae0-e04907c8f744"
   },
   "outputs": [
    {
     "name": "stdout",
     "output_type": "stream",
     "text": [
      "Found 2568 validated image filenames.\n"
     ]
    }
   ],
   "source": [
    "dataframe = df_images\n",
    "x_col = df_images.columns[0]\n",
    "image_size = 256\n",
    "batch_size = 12\n",
    "\n",
    "\n",
    "datagen = image.ImageDataGenerator(rescale = 1./255)\n",
    "                                   \n",
    "pred_generator = datagen.flow_from_dataframe(dataframe = dataframe,                      \n",
    "                                                directory = path_to_images,\n",
    "                                                x_col = x_col,\n",
    "                                                target_size = (image_size, image_size), # default: 256\n",
    "                                                color_mode = 'rgb',\n",
    "                                                shuffle = False, # !! keep same order as in dataframe!\n",
    "                                                batch_size = batch_size,\n",
    "                                                class_mode = 'input') # when images identical to input images (autoencoders)\n"
   ]
  },
  {
   "cell_type": "markdown",
   "metadata": {
    "colab_type": "text",
    "id": "Uok0raeb_g_M"
   },
   "source": [
    "### Load model"
   ]
  },
  {
   "cell_type": "code",
   "execution_count": 7,
   "metadata": {
    "colab": {
     "base_uri": "https://localhost:8080/",
     "height": 887
    },
    "colab_type": "code",
    "executionInfo": {
     "elapsed": 2580,
     "status": "ok",
     "timestamp": 1564311866390,
     "user": {
      "displayName": "Doris Berchtold",
      "photoUrl": "",
      "userId": "12069609318157844251"
     },
     "user_tz": -120
    },
    "id": "kErOBEFK_g_N",
    "outputId": "3a3b117a-502c-4d7e-9a7f-95b51539e74d"
   },
   "outputs": [
    {
     "name": "stderr",
     "output_type": "stream",
     "text": [
      "WARNING: Logging before flag parsing goes to stderr.\n",
      "W0728 11:04:24.074926 139942651778944 deprecation.py:506] From /usr/local/lib/python3.6/dist-packages/tensorflow/python/ops/init_ops.py:97: calling GlorotUniform.__init__ (from tensorflow.python.ops.init_ops) with dtype is deprecated and will be removed in a future version.\n",
      "Instructions for updating:\n",
      "Call initializer instance with the dtype argument instead of passing it to the constructor\n",
      "W0728 11:04:24.078903 139942651778944 deprecation.py:506] From /usr/local/lib/python3.6/dist-packages/tensorflow/python/ops/init_ops.py:1251: calling VarianceScaling.__init__ (from tensorflow.python.ops.init_ops) with dtype is deprecated and will be removed in a future version.\n",
      "Instructions for updating:\n",
      "Call initializer instance with the dtype argument instead of passing it to the constructor\n",
      "W0728 11:04:24.081653 139942651778944 deprecation.py:506] From /usr/local/lib/python3.6/dist-packages/tensorflow/python/ops/init_ops.py:97: calling Zeros.__init__ (from tensorflow.python.ops.init_ops) with dtype is deprecated and will be removed in a future version.\n",
      "Instructions for updating:\n",
      "Call initializer instance with the dtype argument instead of passing it to the constructor\n",
      "W0728 11:04:24.095194 139942651778944 deprecation.py:506] From /usr/local/lib/python3.6/dist-packages/tensorflow/python/ops/init_ops.py:97: calling Ones.__init__ (from tensorflow.python.ops.init_ops) with dtype is deprecated and will be removed in a future version.\n",
      "Instructions for updating:\n",
      "Call initializer instance with the dtype argument instead of passing it to the constructor\n",
      "W0728 11:04:25.197049 139942651778944 hdf5_format.py:221] No training configuration found in save file: the model was *not* compiled. Compile it manually.\n"
     ]
    },
    {
     "name": "stdout",
     "output_type": "stream",
     "text": [
      "Model: \"model_5\"\n",
      "_________________________________________________________________\n",
      "Layer (type)                 Output Shape              Param #   \n",
      "=================================================================\n",
      "input_6 (InputLayer)         [(None, 256, 256, 3)]     0         \n",
      "_________________________________________________________________\n",
      "conv2d_17 (Conv2D)           (None, 256, 256, 64)      15552     \n",
      "_________________________________________________________________\n",
      "batch_normalization_17 (Batc (None, 256, 256, 64)      256       \n",
      "_________________________________________________________________\n",
      "activation_16 (Activation)   (None, 256, 256, 64)      0         \n",
      "_________________________________________________________________\n",
      "max_pooling2d_10 (MaxPooling (None, 128, 128, 64)      0         \n",
      "_________________________________________________________________\n",
      "conv2d_18 (Conv2D)           (None, 128, 128, 32)      51200     \n",
      "_________________________________________________________________\n",
      "batch_normalization_18 (Batc (None, 128, 128, 32)      128       \n",
      "_________________________________________________________________\n",
      "activation_17 (Activation)   (None, 128, 128, 32)      0         \n",
      "_________________________________________________________________\n",
      "max_pooling2d_11 (MaxPooling (None, 64, 64, 32)        0         \n",
      "_________________________________________________________________\n",
      "conv2d_19 (Conv2D)           (None, 64, 64, 16)        4608      \n",
      "_________________________________________________________________\n",
      "batch_normalization_19 (Batc (None, 64, 64, 16)        64        \n",
      "_________________________________________________________________\n",
      "activation_18 (Activation)   (None, 64, 64, 16)        0         \n",
      "_________________________________________________________________\n",
      "max_pooling2d_12 (MaxPooling (None, 32, 32, 16)        0         \n",
      "_________________________________________________________________\n",
      "flatten_4 (Flatten)          (None, 16384)             0         \n",
      "=================================================================\n",
      "Total params: 71,808\n",
      "Trainable params: 71,584\n",
      "Non-trainable params: 224\n",
      "_________________________________________________________________\n"
     ]
    }
   ],
   "source": [
    "encoder = load_model(fullPathEncoder) \n",
    "encoder.summary()"
   ]
  },
  {
   "cell_type": "markdown",
   "metadata": {
    "colab_type": "text",
    "id": "47EzJQ9U_g_P"
   },
   "source": [
    "### Predict latent vectors, save as np array"
   ]
  },
  {
   "cell_type": "code",
   "execution_count": 9,
   "metadata": {
    "colab": {
     "base_uri": "https://localhost:8080/",
     "height": 34
    },
    "colab_type": "code",
    "executionInfo": {
     "elapsed": 1496862,
     "status": "ok",
     "timestamp": 1564313403052,
     "user": {
      "displayName": "Doris Berchtold",
      "photoUrl": "",
      "userId": "12069609318157844251"
     },
     "user_tz": -120
    },
    "id": "iPwbj5CkO7aZ",
    "outputId": "83e19ccc-38ba-49f4-806b-595a4368f103"
   },
   "outputs": [
    {
     "name": "stdout",
     "output_type": "stream",
     "text": [
      "214/214 [==============================] - 1495s 7s/step\n"
     ]
    }
   ],
   "source": [
    "latent_vectors = encoder.predict_generator(pred_generator, verbose = 1)\n",
    "\n",
    "full_path = path_to_save + 'Latent_vectors_' + model_name\n",
    "\n",
    "np.save(full_path, latent_vectors) \n"
   ]
  }
 ],
 "metadata": {
  "accelerator": "GPU",
  "colab": {
   "collapsed_sections": [],
   "name": "Encode_Images.ipynb",
   "provenance": [
    {
     "file_id": "1nJoCKrjzUBG3zNIK3vG9vgMa2zGujFyT",
     "timestamp": 1564309359227
    }
   ],
   "toc_visible": true,
   "version": "0.3.2"
  },
  "kernelspec": {
   "display_name": "Python 3",
   "language": "python",
   "name": "python3"
  },
  "language_info": {
   "codemirror_mode": {
    "name": "ipython",
    "version": 3
   },
   "file_extension": ".py",
   "mimetype": "text/x-python",
   "name": "python",
   "nbconvert_exporter": "python",
   "pygments_lexer": "ipython3",
   "version": "3.7.3"
  }
 },
 "nbformat": 4,
 "nbformat_minor": 1
}
